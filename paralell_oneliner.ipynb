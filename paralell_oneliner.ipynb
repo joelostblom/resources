{
 "metadata": {
  "name": "",
  "signature": "sha256:49ec262b627d21769c31274d1312793d92e7ac5b62d9cfd72328a11e37ee4a11"
 },
 "nbformat": 3,
 "nbformat_minor": 0,
 "worksheets": [
  {
   "cells": [
    {
     "cell_type": "code",
     "collapsed": false,
     "input": [
      "from multiprocessing import Pool\n",
      "from multiprocessing.dummy import Pool as ThreadPool\n",
      "\n",
      "pool = ThreadPool(2) "
     ],
     "language": "python",
     "metadata": {},
     "outputs": [],
     "prompt_number": 94
    },
    {
     "cell_type": "code",
     "collapsed": false,
     "input": [
      "import urllib2\n",
      "\n",
      "urls = [\n",
      "    'http://www.python.org',\n",
      "    'http://www.python.org',\n",
      "    'http://www.python.org',\n",
      "    'http://www.python.org',\n",
      "    'http://www.python.org',\n",
      "    'http://www.python.org',\n",
      "    'http://www.python.org',\n",
      "    'http://www.python.org',\n",
      "    'http://www.python.org',\n",
      "]\n",
      "\n",
      "results = pool.map(urllib2.urlopen, urls)\n",
      "\n",
      "# pool.close()\n",
      "# pool.join()"
     ],
     "language": "python",
     "metadata": {},
     "outputs": [],
     "prompt_number": 88
    },
    {
     "cell_type": "code",
     "collapsed": false,
     "input": [
      "%timeit [urllib2.urlopen(url) for url in urls]"
     ],
     "language": "python",
     "metadata": {},
     "outputs": [
      {
       "output_type": "stream",
       "stream": "stdout",
       "text": [
        "1 loops, best of 3: 1.91 s per loop\n"
       ]
      }
     ],
     "prompt_number": 91
    },
    {
     "cell_type": "code",
     "collapsed": false,
     "input": [
      "pool = ThreadPool(1)\n",
      "%timeit pool.map(urllib2.urlopen, urls)"
     ],
     "language": "python",
     "metadata": {},
     "outputs": [
      {
       "output_type": "stream",
       "stream": "stdout",
       "text": [
        "1 loops, best of 3: 976 ms per loop\n"
       ]
      }
     ],
     "prompt_number": 104
    },
    {
     "cell_type": "code",
     "collapsed": false,
     "input": [
      "pool = ThreadPool(2)\n",
      "%timeit pool.map(urllib2.urlopen, urls)"
     ],
     "language": "python",
     "metadata": {},
     "outputs": [
      {
       "output_type": "stream",
       "stream": "stdout",
       "text": [
        "1 loops, best of 3: 552 ms per loop\n"
       ]
      }
     ],
     "prompt_number": 105
    },
    {
     "cell_type": "code",
     "collapsed": false,
     "input": [
      "pool = ThreadPool(3)\n",
      "%timeit pool.map(urllib2.urlopen, urls)"
     ],
     "language": "python",
     "metadata": {},
     "outputs": [
      {
       "output_type": "stream",
       "stream": "stdout",
       "text": [
        "1 loops, best of 3: 339 ms per loop\n"
       ]
      }
     ],
     "prompt_number": 106
    },
    {
     "cell_type": "code",
     "collapsed": false,
     "input": [
      "pool = ThreadPool(4)\n",
      "%timeit pool.map(urllib2.urlopen, urls)"
     ],
     "language": "python",
     "metadata": {},
     "outputs": [
      {
       "output_type": "stream",
       "stream": "stdout",
       "text": [
        "1 loops, best of 3: 342 ms per loop\n"
       ]
      }
     ],
     "prompt_number": 107
    },
    {
     "cell_type": "code",
     "collapsed": false,
     "input": [
      "pool = ThreadPool(5)\n",
      "%timeit pool.map(urllib2.urlopen, urls)"
     ],
     "language": "python",
     "metadata": {},
     "outputs": [
      {
       "output_type": "stream",
       "stream": "stdout",
       "text": [
        "1 loops, best of 3: 236 ms per loop\n"
       ]
      }
     ],
     "prompt_number": 108
    },
    {
     "cell_type": "code",
     "collapsed": false,
     "input": [
      "pool = ThreadPool(6)\n",
      "%timeit pool.map(urllib2.urlopen, urls)"
     ],
     "language": "python",
     "metadata": {},
     "outputs": [
      {
       "output_type": "stream",
       "stream": "stdout",
       "text": [
        "1 loops, best of 3: 229 ms per loop\n"
       ]
      }
     ],
     "prompt_number": 109
    },
    {
     "cell_type": "code",
     "collapsed": false,
     "input": [
      "pool = ThreadPool(7)\n",
      "%timeit pool.map(urllib2.urlopen, urls)"
     ],
     "language": "python",
     "metadata": {},
     "outputs": [
      {
       "output_type": "stream",
       "stream": "stdout",
       "text": [
        "1 loops, best of 3: 225 ms per loop\n"
       ]
      }
     ],
     "prompt_number": 110
    },
    {
     "cell_type": "code",
     "collapsed": false,
     "input": [
      "pool = ThreadPool(8)\n",
      "%timeit pool.map(urllib2.urlopen, urls)"
     ],
     "language": "python",
     "metadata": {},
     "outputs": [
      {
       "output_type": "stream",
       "stream": "stdout",
       "text": [
        "1 loops, best of 3: 281 ms per loop\n"
       ]
      }
     ],
     "prompt_number": 111
    },
    {
     "cell_type": "code",
     "collapsed": false,
     "input": [
      "def test_par(x):\n",
      "#     i = 0\n",
      "    for i in x:\n",
      "        a = i**300\n",
      "    return a"
     ],
     "language": "python",
     "metadata": {},
     "outputs": [],
     "prompt_number": 112
    },
    {
     "cell_type": "code",
     "collapsed": false,
     "input": [
      "%timeit test_par(range(0,100000))"
     ],
     "language": "python",
     "metadata": {},
     "outputs": [
      {
       "output_type": "stream",
       "stream": "stdout",
       "text": [
        "1 loops, best of 3: 871 ms per loop\n"
       ]
      }
     ],
     "prompt_number": 66
    },
    {
     "cell_type": "code",
     "collapsed": false,
     "input": [
      "map_list = [range(0,10000)]"
     ],
     "language": "python",
     "metadata": {},
     "outputs": [],
     "prompt_number": 73
    },
    {
     "cell_type": "code",
     "collapsed": false,
     "input": [
      "pool.map(test_par, map_list)"
     ],
     "language": "python",
     "metadata": {},
     "outputs": [
      {
       "metadata": {},
       "output_type": "pyout",
       "prompt_number": 74,
       "text": [
        "[970444077784247918153453521931722539172751419030529040078082050037417421202232140267538295702045568850294698823972979564238722671260851034548505980959011094478148761174806014728679015554697105489460404785173948315024886854771283660430201906815482476929124667049496227233959053315350362054299914010416480194230952364568552530517185215021035510240344711090409813814080751779964768055169370538716039363142277652514138967710918654722262169701498084531373498054485509867790341138898510909839110858172914244222900735780582900395739378961827683998417981652959231179657397400816087292187408250576837119780326743187798188964760128558368129819703994628633666704688443433751412206037564312174336995886061096762142101097703739138623714674567391366522381072104340208218730556891083975570948631037268175584375608117545971991169742838521938691946176309091008895675203136175323836081939456220688492053944466803099731294789319934376833059135270421373898645292757366617893056115326157402856129994423176522877683291992323061669981032862157702424186868532977508550027736462482297687346684789177707920979656982958105054993558394503989614229427291731078533638057409429709064293431365308994706888419551907294904484997000001L]"
       ]
      }
     ],
     "prompt_number": 74
    },
    {
     "cell_type": "code",
     "collapsed": false,
     "input": [
      "import pandas as pd\n",
      "import matplotlib.pyplot as plt\n",
      "df = pd.DataFrame([[4,6,1,3], [5,7,5,2]], columns = ['mean1', 'mean2', 'std1', 'std2'], index=['A', 'B'])\n",
      "print(df)\n",
      "\n",
      "df[['mean1', 'mean2']].plot(kind='bar', yerr=df[['std1', 'std2']].values.T, alpha = 0.5,error_kw=dict(ecolor='k'))\n",
      "plt.show()"
     ],
     "language": "python",
     "metadata": {},
     "outputs": [
      {
       "output_type": "stream",
       "stream": "stdout",
       "text": [
        "   mean1  mean2  std1  std2\n",
        "A      4      6     1     3\n",
        "B      5      7     5     2\n"
       ]
      },
      {
       "metadata": {},
       "output_type": "display_data",
       "png": "[encoded data removed]",
       "text": [
        "<matplotlib.figure.Figure at 0x7fda933ee190>"
       ]
      }
     ],
     "prompt_number": 76
    }
   ],
   "metadata": {}
  }
 ]
}